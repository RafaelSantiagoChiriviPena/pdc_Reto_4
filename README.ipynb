{
 "cells": [
  {
   "cell_type": "markdown",
   "metadata": {},
   "source": [
    "# Reto 4\n",
    "En este repositorio se encontrarán mis soluciones propuestas a los puntos asignados como parte de este reto\n",
    "## 1. Dado un número entero, determinar si ese número corresponde al código ASCII de una vocal minúscula."
   ]
  },
  {
   "cell_type": "code",
   "execution_count": null,
   "metadata": {},
   "outputs": [],
   "source": [
    "try:\n",
    "    numero_minuscula : int\n",
    "    numero_minuscula = int(input(\"Ingrese un numero entero: \"))\n",
    "    match numero_minuscula:\n",
    "        case 97:\n",
    "            print(\"El entero ingresado corresponde al codigo ASCII de la vocal minuscula a\")\n",
    "        case 101:\n",
    "            print(\"El entero ingresado corresponde al codigo ASCII de la vocal minuscula e\")\n",
    "        case 105:\n",
    "            print(\"El entero ingresado corresponde al codigo ASCII de la vocal minuscula i\")\n",
    "        case 111:\n",
    "            print(\"El entero ingresado corresponde al codigo ASCII de la vocal minuscula o\")\n",
    "        case 117:\n",
    "            print(\"El entero ingresado corresponde al codigo ASCII de la vocal minuscula u\")\n",
    "        case _:\n",
    "            print(\"El entero ingresado no corresponde con el codigo ASCII de alguna vocal minuscula\")\n",
    "except ValueError :\n",
    "    print(\"El dato ingresado no es un numero entero\")"
   ]
  },
  {
   "cell_type": "markdown",
   "metadata": {},
   "source": [
    "## 2. Dada una cadena de longitud 1, determine si el código ASCII de primera letra de la cadena es par o no."
   ]
  },
  {
   "cell_type": "code",
   "execution_count": null,
   "metadata": {},
   "outputs": [],
   "source": [
    "try:\n",
    "    cadena : str\n",
    "    cadena = str(input(\"Ingrese una cadena de longitud 1: \"))\n",
    "    if len(cadena) == 1:\n",
    "        ASCII : int\n",
    "        ASCII = ord(cadena)\n",
    "        if ASCII%2 == 0:\n",
    "            print(\"El codigo ASCII de la cadena ingresada \" ,cadena, \" es par con un valor de \" ,ASCII)\n",
    "        else:\n",
    "            print(\"El codigo ASCII de la cadena ingresada \" ,cadena, \" es impar con un valor de \" ,ASCII)\n",
    "    else:\n",
    "        print(\"la cadena ingresada no tiene la longitud solicitada de 1\")\n",
    "except ValueError:\n",
    "    print(\"La cadena ingresada no es valida\")"
   ]
  },
  {
   "cell_type": "markdown",
   "metadata": {},
   "source": [
    "## 3. Dado un carácter, construya un programa en Python para determinar si el carácter es un dígito o no."
   ]
  },
  {
   "cell_type": "code",
   "execution_count": null,
   "metadata": {},
   "outputs": [],
   "source": [
    "try: \n",
    "    caracter : str\n",
    "    caracter = str(input(\"Ingrese un caracter para evaluar: \"))\n",
    "    if len(caracter) == 1:\n",
    "        digito : int\n",
    "        digito = ord(caracter)\n",
    "        if digito >= 48 and digito <= 57:\n",
    "            print(\"El caracter ingresado corresponde al digito \" ,caracter)\n",
    "        else:\n",
    "            print(\"El caracter ingresado no corresponde a ningun digito\")\n",
    "    else:\n",
    "        print(\"el caracter ingresado no es valido\")\n",
    "except ValueError: \n",
    "    print(\"La cadena ingresada no es valida\")"
   ]
  },
  {
   "cell_type": "markdown",
   "metadata": {},
   "source": [
    "## 4. Dado un número real x, construya un programa que permita determinar si el número es positivo, negativo o cero. Para cada caso de debe imprimir el texto que se especifica a continuación:\n",
    "\n",
    "Positivo: \"El número x es positivo\"\n",
    "Negativo: \"El número x es negativo\"\n",
    "Cero (0): \"El número x es el neutro para la suma\""
   ]
  },
  {
   "cell_type": "code",
   "execution_count": null,
   "metadata": {},
   "outputs": [],
   "source": [
    "try:\n",
    "    numero_signo : int \n",
    "    numero_signo = int(input(\"Ingrese un numero entero: \"))\n",
    "    if numero_signo > 0:\n",
    "        print(\"El numero ingresado \" ,numero_signo, \" es positivo (n > 0)\")\n",
    "    elif numero_signo < 0:\n",
    "        print(\"El numero ingresado \" ,numero_signo, \" es negativo (n < 0)\")\n",
    "    else:\n",
    "        print(\"El numero ingresado \" ,numero_signo, \" es neutro (n = 0)\")\n",
    "except ValueError :\n",
    "    print(\"El dato ingresado no es un numero entero\")"
   ]
  },
  {
   "cell_type": "markdown",
   "metadata": {},
   "source": [
    "## 5. Dado el centro y el radio de un círculo, determinar si un punto de R2 pertenece o no al interior del círculo."
   ]
  },
  {
   "cell_type": "code",
   "execution_count": null,
   "metadata": {},
   "outputs": [],
   "source": [
    "try:\n",
    "    centro1 : float\n",
    "    centro2 : float\n",
    "    radio : float\n",
    "    punto1 : float\n",
    "    punto2 : float\n",
    "    centro1 = float(input(\"Ingrese la coordenada x para el centro del circulo: \"))\n",
    "    centro2 = float(input(\"Ingrese la coordenada y para el centro del circulo: \"))\n",
    "    radio = float(input(\"Ingrese el radio del circulo: \"))\n",
    "    punto1 = float(input(\"Ingrese la coordenada x del punto a verificar: \"))\n",
    "    punto2 = float(input(\"Ingrese la coordenada y del punto a verificar: \"))\n",
    "    if (punto1 - centro1)**2 + (punto2- centro2)** 2<= radio**2:\n",
    "        print(\"La coordenada ingresada (\" ,punto1, \" , \" ,punto2, \") se encuentra dentro del circulo formado por el centro (\" ,centro1, \" , \" ,centro2, \") con radio \" ,radio)\n",
    "    else:\n",
    "        print(\"La coordenada ingresada (\" ,punto1, \" , \" ,punto2, \") no se encuentra dentro del circulo formado por el centro (\" ,centro1, \" , \" ,centro2, \") con radio \" ,radio)\n",
    "except ValueError:\n",
    "    print(\"El valor ingresado no es un numero real\")"
   ]
  },
  {
   "cell_type": "markdown",
   "metadata": {},
   "source": [
    "## 6. Dadas tres longitudes positivas, determinar si con esas longitudes se puede construir un triángulo."
   ]
  },
  {
   "cell_type": "code",
   "execution_count": null,
   "metadata": {},
   "outputs": [],
   "source": [
    "try:\n",
    "    longitud1 : float\n",
    "    longitud2 : float\n",
    "    longitud3 : float\n",
    "    longitud1 = float(input(\"Por favor, ingrese la primera longitud: \"))\n",
    "    longitud2 = float(input(\"Por favor, ingrese la segunda longitud: \"))\n",
    "    longitud3 = float(input(\"Por favor, ingrese la tercera longitud: \"))\n",
    "    if longitud1 > 0 and longitud2 > 0 and longitud3 > 0:\n",
    "        if longitud1 + longitud2 > longitud3 and longitud1 + longitud3 > longitud2 and longitud2 + longitud3 > longitud1:\n",
    "            print(\"Las longitudes ingresadas corresponden a las validas para crear un triangulo a partir del teorema de desigualdad\")\n",
    "        else:\n",
    "            print(\"Las longitudes ingresadas no corresponden a las validas para crear un triangulo a partir del teorema de desigualdad\")\n",
    "    else:\n",
    "        print(\"no existen longitudes negativas\")\n",
    "except ValueError:\n",
    "    print(\"El dato ingresado no es un numero real\")"
   ]
  }
 ],
 "metadata": {
  "kernelspec": {
   "display_name": "Python 3",
   "language": "python",
   "name": "python3"
  },
  "language_info": {
   "codemirror_mode": {
    "name": "ipython",
    "version": 3
   },
   "file_extension": ".py",
   "mimetype": "text/x-python",
   "name": "python",
   "nbconvert_exporter": "python",
   "pygments_lexer": "ipython3",
   "version": "3.11.8"
  }
 },
 "nbformat": 4,
 "nbformat_minor": 2
}
