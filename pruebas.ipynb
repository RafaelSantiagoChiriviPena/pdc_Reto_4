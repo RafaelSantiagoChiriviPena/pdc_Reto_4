{
 "cells": [
  {
   "cell_type": "code",
   "execution_count": 66,
   "metadata": {},
   "outputs": [
    {
     "name": "stdout",
     "output_type": "stream",
     "text": [
      "El entero ingresado no corresponde con el codigo ASCII de alguna vocal minuscula\n"
     ]
    }
   ],
   "source": [
    "try:\n",
    "    numero_minuscula : int\n",
    "    numero_minuscula = int(input(\"Ingrese un numero entero: \"))\n",
    "    match numero_minuscula:\n",
    "        case 97:\n",
    "            print(\"El entero ingresado corresponde al codigo ASCII de la vocal minuscula a\")\n",
    "        case 101:\n",
    "            print(\"El entero ingresado corresponde al codigo ASCII de la vocal minuscula e\")\n",
    "        case 105:\n",
    "            print(\"El entero ingresado corresponde al codigo ASCII de la vocal minuscula i\")\n",
    "        case 111:\n",
    "            print(\"El entero ingresado corresponde al codigo ASCII de la vocal minuscula o\")\n",
    "        case 117:\n",
    "            print(\"El entero ingresado corresponde al codigo ASCII de la vocal minuscula u\")\n",
    "        case _:\n",
    "            print(\"El entero ingresado no corresponde con el codigo ASCII de alguna vocal minuscula\")\n",
    "except ValueError :\n",
    "    print(\"El dato ingresado no es un numero entero\")"
   ]
  },
  {
   "cell_type": "code",
   "execution_count": 51,
   "metadata": {},
   "outputs": [
    {
     "name": "stdout",
     "output_type": "stream",
     "text": [
      "El codigo ASCII de la cadena ingresada  z  es par con un valor de  122\n"
     ]
    }
   ],
   "source": [
    "try:\n",
    "    cadena : str\n",
    "    cadena = str(input(\"Ingrese una cadena de longitud 1: \"))\n",
    "    if len(cadena) == 1:\n",
    "        ASCII : int\n",
    "        ASCII = ord(cadena)\n",
    "        if ASCII%2 == 0:\n",
    "            print(\"El codigo ASCII de la cadena ingresada \" ,cadena, \" es par con un valor de \" ,ASCII)\n",
    "        else:\n",
    "            print(\"El codigo ASCII de la cadena ingresada \" ,cadena, \" es impar con un valor de \" ,ASCII)\n",
    "    else:\n",
    "        print(\"la cadena ingresada no tiene la longitud solicitada de 1\")\n",
    "except ValueError:\n",
    "    print(\"La cadena ingresada no es valida\")"
   ]
  },
  {
   "cell_type": "code",
   "execution_count": 58,
   "metadata": {},
   "outputs": [
    {
     "name": "stdout",
     "output_type": "stream",
     "text": [
      "El caracter ingresado corresponde al digito  0\n"
     ]
    }
   ],
   "source": [
    "try: \n",
    "    caracter : str\n",
    "    caracter = str(input(\"Ingrese un caracter para evaluar: \"))\n",
    "    if len(caracter) == 1:\n",
    "        digito : int\n",
    "        digito = ord(caracter)\n",
    "        if digito >= 48 and digito <= 57:\n",
    "            print(\"El caracter ingresado corresponde al digito \" ,caracter)\n",
    "        else:\n",
    "            print(\"El caracter ingresado no corresponde a ningun digito\")\n",
    "    else:\n",
    "        print(\"el caracter ingresado no es valido\")\n",
    "except ValueError: \n",
    "    print(\"La cadena ingresada no es valida\")"
   ]
  },
  {
   "cell_type": "code",
   "execution_count": 33,
   "metadata": {},
   "outputs": [
    {
     "name": "stdout",
     "output_type": "stream",
     "text": [
      "El dato ingresado no es un numero entero\n"
     ]
    }
   ],
   "source": [
    "try:\n",
    "    numero_signo : int \n",
    "    numero_signo = int(input(\"Ingrese un numero entero: \"))\n",
    "    if numero_signo > 0:\n",
    "        print(\"El numero ingresado \" ,numero_signo, \" es positivo (n > 0)\")\n",
    "    elif numero_signo < 0:\n",
    "        print(\"El numero ingresado \" ,numero_signo, \" es negativo (n < 0)\")\n",
    "    else:\n",
    "        print(\"El numero ingresado \" ,numero_signo, \" es neutro (n = 0)\")\n",
    "except ValueError :\n",
    "    print(\"El dato ingresado no es un numero entero\")\n",
    "\n"
   ]
  },
  {
   "cell_type": "code",
   "execution_count": null,
   "metadata": {},
   "outputs": [],
   "source": [
    "centro1 : int\n",
    "centro2 : int\n",
    "radio : int\n",
    "centro1 = int(input(\"Ingrese la coordenada x para el centro del circulo: \"))\n",
    "centro2 = int(input(\"Ingrese la coordenada y para el centro del circulo: \"))\n",
    "radio = int(input(\"Ingrese el radio del circulo: \"))\n"
   ]
  }
 ],
 "metadata": {
  "kernelspec": {
   "display_name": "Python 3",
   "language": "python",
   "name": "python3"
  },
  "language_info": {
   "name": "python",
   "version": "3.11.0"
  }
 },
 "nbformat": 4,
 "nbformat_minor": 2
}
