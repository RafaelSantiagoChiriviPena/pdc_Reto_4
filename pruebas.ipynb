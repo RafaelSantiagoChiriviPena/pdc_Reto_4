{
 "cells": [
  {
   "cell_type": "code",
   "execution_count": 12,
   "metadata": {},
   "outputs": [
    {
     "name": "stdout",
     "output_type": "stream",
     "text": [
      "El entero ingresado no corresponde con el codigo ASCII de alguna vocal minuscula\n"
     ]
    }
   ],
   "source": [
    "## entero como vocal minuscula reto 4\n",
    "try:\n",
    "    numero_minuscula : int\n",
    "    numero_minuscula = int(input(\"Ingrese un numero entero: \"))\n",
    "    match numero_minuscula:\n",
    "        case 97:\n",
    "            print(\"El entero ingresado corresponde al codigo ASCII de la vocal minuscula a\")\n",
    "        case 101:\n",
    "            print(\"El entero ingresado corresponde al codigo ASCII de la vocal minuscula e\")\n",
    "        case 105:\n",
    "            print(\"El entero ingresado corresponde al codigo ASCII de la vocal minuscula i\")\n",
    "        case 111:\n",
    "            print(\"El entero ingresado corresponde al codigo ASCII de la vocal minuscula o\")\n",
    "        case 117:\n",
    "            print(\"El entero ingresado corresponde al codigo ASCII de la vocal minuscula u\")\n",
    "        case _:\n",
    "            print(\"El entero ingresado no corresponde con el codigo ASCII de alguna vocal minuscula\")\n",
    "except ValueError :\n",
    "    print(\"El dato ingresado no es un numero entero\")"
   ]
  },
  {
   "cell_type": "code",
   "execution_count": 51,
   "metadata": {},
   "outputs": [
    {
     "name": "stdout",
     "output_type": "stream",
     "text": [
      "El codigo ASCII de la cadena ingresada  z  es par con un valor de  122\n"
     ]
    }
   ],
   "source": [
    "## ascii par o impar reto 4\n",
    "try:\n",
    "    cadena : str\n",
    "    cadena = str(input(\"Ingrese una cadena de longitud 1: \"))\n",
    "    if len(cadena) == 1:\n",
    "        ASCII : int\n",
    "        ASCII = ord(cadena)\n",
    "        if ASCII%2 == 0:\n",
    "            print(\"El codigo ASCII de la cadena ingresada \" ,cadena, \" es par con un valor de \" ,ASCII)\n",
    "        else:\n",
    "            print(\"El codigo ASCII de la cadena ingresada \" ,cadena, \" es impar con un valor de \" ,ASCII)\n",
    "    else:\n",
    "        print(\"la cadena ingresada no tiene la longitud solicitada de 1\")\n",
    "except ValueError:\n",
    "    print(\"La cadena ingresada no es valida\")"
   ]
  },
  {
   "cell_type": "code",
   "execution_count": 58,
   "metadata": {},
   "outputs": [
    {
     "name": "stdout",
     "output_type": "stream",
     "text": [
      "El caracter ingresado corresponde al digito  0\n"
     ]
    }
   ],
   "source": [
    "## caracter como numero entero reti 4\n",
    "try: \n",
    "    caracter : str\n",
    "    caracter = str(input(\"Ingrese un caracter para evaluar: \"))\n",
    "    if len(caracter) == 1:\n",
    "        digito : int\n",
    "        digito = ord(caracter)\n",
    "        if digito >= 48 and digito <= 57:\n",
    "            print(\"El caracter ingresado corresponde al digito \" ,caracter)\n",
    "        else:\n",
    "            print(\"El caracter ingresado no corresponde a ningun digito\")\n",
    "    else:\n",
    "        print(\"el caracter ingresado no es valido\")\n",
    "except ValueError: \n",
    "    print(\"La cadena ingresada no es valida\")"
   ]
  },
  {
   "cell_type": "code",
   "execution_count": 33,
   "metadata": {},
   "outputs": [
    {
     "name": "stdout",
     "output_type": "stream",
     "text": [
      "El dato ingresado no es un numero entero\n"
     ]
    }
   ],
   "source": [
    "## signo de un numero reto 4\n",
    "try:\n",
    "    numero_signo : int \n",
    "    numero_signo = int(input(\"Ingrese un numero entero: \"))\n",
    "    if numero_signo > 0:\n",
    "        print(\"El numero ingresado \" ,numero_signo, \" es positivo (n > 0)\")\n",
    "    elif numero_signo < 0:\n",
    "        print(\"El numero ingresado \" ,numero_signo, \" es negativo (n < 0)\")\n",
    "    else:\n",
    "        print(\"El numero ingresado \" ,numero_signo, \" es neutro (n = 0)\")\n",
    "except ValueError :\n",
    "    print(\"El dato ingresado no es un numero entero\")\n",
    "\n"
   ]
  },
  {
   "cell_type": "code",
   "execution_count": 10,
   "metadata": {},
   "outputs": [
    {
     "name": "stdout",
     "output_type": "stream",
     "text": [
      "La coordenada ingresada ( 9.0  ,  2.0 ) se encuentra dentro del circulo formado por el centro ( 5.0  ,  -3.0 ) con radio  9.0\n"
     ]
    }
   ],
   "source": [
    "## coordenada circulo reto 4\n",
    "try:\n",
    "    centro1 : float\n",
    "    centro2 : float\n",
    "    radio : float\n",
    "    punto1 : float\n",
    "    punto2 : float\n",
    "    centro1 = float(input(\"Ingrese la coordenada x para el centro del circulo: \"))\n",
    "    centro2 = float(input(\"Ingrese la coordenada y para el centro del circulo: \"))\n",
    "    radio = float(input(\"Ingrese el radio del circulo: \"))\n",
    "    punto1 = float(input(\"Ingrese la coordenada x del punto a verificar: \"))\n",
    "    punto2 = float(input(\"Ingrese la coordenada y del punto a verificar: \"))\n",
    "    if (punto1 - centro1)**2 + (punto2- centro2)** 2<= radio**2:\n",
    "        print(\"La coordenada ingresada (\" ,punto1, \" , \" ,punto2, \") se encuentra dentro del circulo formado por el centro (\" ,centro1, \" , \" ,centro2, \") con radio \" ,radio)\n",
    "    else:\n",
    "        print(\"La coordenada ingresada (\" ,punto1, \" , \" ,punto2, \") no se encuentra dentro del circulo formado por el centro (\" ,centro1, \" , \" ,centro2, \") con radio \" ,radio)\n",
    "except ValueError:\n",
    "    print(\"El valor ingresado no es un numero real\")\n"
   ]
  },
  {
   "cell_type": "code",
   "execution_count": 4,
   "metadata": {},
   "outputs": [
    {
     "name": "stdout",
     "output_type": "stream",
     "text": [
      "Las longitudes ingresadas no corresponden a las validas para crear un triangulo a partir del principio de desigualdad\n"
     ]
    }
   ],
   "source": [
    "## longitudes para un triangulo reto 4\n",
    "try:\n",
    "    longitud1 : float\n",
    "    longitud2 : float\n",
    "    longitud3 : float\n",
    "    longitud1 = float(input(\"Por favor, ingrese la primera longitud: \"))\n",
    "    longitud2 = float(input(\"Por favor, ingrese la segunda longitud: \"))\n",
    "    longitud3 = float(input(\"Por favor, ingrese la tercera longitud: \"))\n",
    "    if longitud1 > 0 and longitud2 > 0 and longitud3 > 0:\n",
    "        if longitud1 + longitud2 > longitud3 and longitud1 + longitud3 > longitud2 and longitud2 + longitud3 > longitud1:\n",
    "            print(\"Las longitudes ingresadas corresponden a las validas para crear un triangulo a partir del teorema de desigualdad\")\n",
    "        else:\n",
    "            print(\"Las longitudes ingresadas no corresponden a las validas para crear un triangulo a partir del teorema de desigualdad\")\n",
    "    else:\n",
    "        print(\"no existen longitudes negativas\")\n",
    "except ValueError:\n",
    "    print(\"El dato ingresado no es un numero real\")"
   ]
  },
  {
   "cell_type": "code",
   "execution_count": 3,
   "metadata": {},
   "outputs": [
    {
     "name": "stdout",
     "output_type": "stream",
     "text": [
      "La fuerza grativacional que separa a ambas masas es de 7.1691640625000004e-12\n"
     ]
    }
   ],
   "source": [
    "## ejercicio de definicion de funciones\n",
    "G : float = 6.67384e-11 # Constante de Cavendish [Nm^2/kg^2]\n",
    "def Fuerza_gravitacional (masa1 : float, masa2 : float, distancia : float) -> float:\n",
    "    return G * ((masa1 * masa2)/ (distancia**2) )\n",
    "if __name__ == \"__main__\":\n",
    "    masa1 = float(input(\"Por favor ingrese el valor de la masa 1 (kg): \"))\n",
    "    masa2 = float(input(\"Por favor ingrese el valor de la masa 2 (kg): \"))\n",
    "    distancia = float(input(\"Por favor ingrese la distancia que las separa (m)\"))\n",
    "    fuerza_gravitacional = Fuerza_gravitacional(masa1, masa2, distancia)\n",
    "    print (\"La fuerza grativacional que separa a ambas masas es de \" +str(fuerza_gravitacional))"
   ]
  },
  {
   "cell_type": "code",
   "execution_count": null,
   "metadata": {},
   "outputs": [],
   "source": [
    "## reto 6\n",
    "from math import pi \n",
    "def area_figura1 (radio1 : float , radio2 : float , altura : float) -> float:\n",
    "    return ((4/3) * pi * (radio**3)) + "
   ]
  }
 ],
 "metadata": {
  "kernelspec": {
   "display_name": "Python 3",
   "language": "python",
   "name": "python3"
  },
  "language_info": {
   "codemirror_mode": {
    "name": "ipython",
    "version": 3
   },
   "file_extension": ".py",
   "mimetype": "text/x-python",
   "name": "python",
   "nbconvert_exporter": "python",
   "pygments_lexer": "ipython3",
   "version": "3.11.8"
  }
 },
 "nbformat": 4,
 "nbformat_minor": 2
}
